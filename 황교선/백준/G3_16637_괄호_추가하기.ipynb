{
 "metadata": {
  "language_info": {
   "codemirror_mode": {
    "name": "ipython",
    "version": 3
   },
   "file_extension": ".py",
   "mimetype": "text/x-python",
   "name": "python",
   "nbconvert_exporter": "python",
   "pygments_lexer": "ipython3",
   "version": "3.8.2"
  },
  "orig_nbformat": 2,
  "kernelspec": {
   "name": "python37364bit2d84b488578f439380c2586f8be3149f",
   "display_name": "Python 3.8.2 64-bit"
  },
  "metadata": {
   "interpreter": {
    "hash": "31f2aee4e71d21fbe5cf8b01ff0e069b9275f58929596ceb00d14d90e3e16cd6"
   }
  }
 },
 "nbformat": 4,
 "nbformat_minor": 2,
 "cells": [
  {
   "cell_type": "code",
   "execution_count": 25,
   "metadata": {},
   "outputs": [
    {
     "output_type": "stream",
     "name": "stdout",
     "text": [
      "1919191919 ---------\n1-9-1-9-1-9-1-9-1-9\n1-9-1-9-1-9-1-9--8\n1-9-1-9-1-9-1-8-9\n1-9-1-9-1-9--8-1-9\n1-9-1-9-1-9--8--8\n1-9-1-9-1-8-9-1-9\n1-9-1-9-1-8-9--8\n1-9-1-9-1-8-8-9\n1-9-1-9--8-1-9-1-9\n1-9-1-9--8-1-9--8\n1-9-1-9--8-1-8-9\n1-9-1-9--8--8-1-9\n1-9-1-9--8--8--8\n1-9-1-8-9-1-9-1-9\n1-9-1-8-9-1-9--8\n1-9-1-8-9-1-8-9\n1-9-1-8-9--8-1-9\n1-9-1-8-9--8--8\n1-9-1-8-8-9-1-9\n1-9-1-8-8-9--8\n1-9-1-8-8-8-9\n1-9--8-1-9-1-9-1-9\n1-9--8-1-9-1-9--8\n1-9--8-1-9-1-8-9\n1-9--8-1-9--8-1-9\n1-9--8-1-9--8--8\n1-9--8-1-8-9-1-9\n1-9--8-1-8-9--8\n1-9--8-1-8-8-9\n1-9--8--8-1-9-1-9\n1-9--8--8-1-9--8\n1-9--8--8-1-8-9\n1-9--8--8--8-1-9\n1-9--8--8--8--8\n1-8-9-1-9-1-9-1-9\n1-8-9-1-9-1-9--8\n1-8-9-1-9-1-8-9\n1-8-9-1-9--8-1-9\n1-8-9-1-9--8--8\n1-8-9-1-8-9-1-9\n1-8-9-1-8-9--8\n1-8-9-1-8-8-9\n1-8-9--8-1-9-1-9\n1-8-9--8-1-9--8\n1-8-9--8-1-8-9\n1-8-9--8--8-1-9\n1-8-9--8--8--8\n1-8-8-9-1-9-1-9\n1-8-8-9-1-9--8\n1-8-8-9-1-8-9\n1-8-8-9--8-1-9\n1-8-8-9--8--8\n1-8-8-8-9-1-9\n1-8-8-8-9--8\n1-8-8-8-8-9\n-8-1-9-1-9-1-9-1-9\n-8-1-9-1-9-1-9--8\n-8-1-9-1-9-1-8-9\n-8-1-9-1-9--8-1-9\n-8-1-9-1-9--8--8\n-8-1-9-1-8-9-1-9\n-8-1-9-1-8-9--8\n-8-1-9-1-8-8-9\n-8-1-9--8-1-9-1-9\n-8-1-9--8-1-9--8\n-8-1-9--8-1-8-9\n-8-1-9--8--8-1-9\n-8-1-9--8--8--8\n-8-1-8-9-1-9-1-9\n-8-1-8-9-1-9--8\n-8-1-8-9-1-8-9\n-8-1-8-9--8-1-9\n-8-1-8-9--8--8\n-8-1-8-8-9-1-9\n-8-1-8-8-9--8\n-8-1-8-8-8-9\n-8--8-1-9-1-9-1-9\n-8--8-1-9-1-9--8\n-8--8-1-9-1-8-9\n-8--8-1-9--8-1-9\n-8--8-1-9--8--8\n-8--8-1-8-9-1-9\n-8--8-1-8-9--8\n-8--8-1-8-8-9\n-8--8--8-1-9-1-9\n-8--8--8-1-9--8\n-8--8--8-1-8-9\n-8--8--8--8-1-9\n-8--8--8--8--8\n"
     ]
    }
   ],
   "source": [
    "#11:25 ~ \n",
    "    \n",
    "def GetBracketIndeces(index, bracketIndeces):\n",
    "    if index == operatorCnt:\n",
    "        return OperateAllElement(bracketIndeces[1:]) #첫번째로 넣은 0은 의미 없는 것이라 뺌\n",
    "    if bracketIndeces[-1] == \"1\":\n",
    "        GetBracketIndeces(index+1, bracketIndeces+\"0\")\n",
    "    else:\n",
    "        GetBracketIndeces(index+1, bracketIndeces+\"0\")\n",
    "        GetBracketIndeces(index+1, bracketIndeces+\"1\")\n",
    "\n",
    "def OperateAllElement(isBrackets):\n",
    "    curEquation = equation[0]\n",
    "    for index in range(len(isBrackets)):\n",
    "        if isBrackets[index] == \"1\":\n",
    "            curEquation = curEquation[:-1] + str(Operate(equationNumElement[index],equationNumElement[index+1],equationOperElement[index]))\n",
    "        else:\n",
    "            curEquation += equationOperElement[index]\n",
    "            curEquation += equationNumElement[index+1]\n",
    "    print(curEquation)\n",
    "\n",
    "\n",
    "def Operate(a,b,oper):\n",
    "    if oper == '+':\n",
    "        return int(a) + int(b)\n",
    "    elif oper == '-':\n",
    "        return int(a) - int(b)\n",
    "    else:\n",
    "        return int(a) * int(b)\n",
    "\n",
    "N = input()\n",
    "equation = input()\n",
    "equationNumElement = equation[::2]\n",
    "equationOperElement = equation[1::2]\n",
    "operatorCnt = len(equationOperElement)\n",
    "print(equationNumElement, equationOperElement)\n",
    "\n",
    "calculateCnt = 0\n",
    "highest = 0\n",
    "GetBracketIndeces(0, \"0\")\n",
    "#19\n",
    "#1-9-1-9-1-9-1-9-1-9\n",
    "#1919191919\n",
    "#---------\n",
    "#(1-9)-(1-9)-(1-9)-(1-9)-(1-9) = -8 + 8 + 8 + 8 + 8 = 24"
   ]
  },
  {
   "cell_type": "code",
   "execution_count": 19,
   "metadata": {},
   "outputs": [
    {
     "output_type": "stream",
     "name": "stdout",
     "text": [
      "12\n"
     ]
    }
   ],
   "source": [
    "s = \"123\"\n",
    "print(s[:-1])"
   ]
  }
 ]
}