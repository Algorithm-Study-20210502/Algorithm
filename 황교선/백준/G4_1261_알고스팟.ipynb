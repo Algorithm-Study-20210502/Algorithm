{
 "metadata": {
  "language_info": {
   "codemirror_mode": {
    "name": "ipython",
    "version": 3
   },
   "file_extension": ".py",
   "mimetype": "text/x-python",
   "name": "python",
   "nbconvert_exporter": "python",
   "pygments_lexer": "ipython3",
   "version": "3.8.2"
  },
  "orig_nbformat": 2,
  "kernelspec": {
   "name": "python37364bit2d84b488578f439380c2586f8be3149f",
   "display_name": "Python 3.8.2 64-bit"
  },
  "metadata": {
   "interpreter": {
    "hash": "31f2aee4e71d21fbe5cf8b01ff0e069b9275f58929596ceb00d14d90e3e16cd6"
   }
  }
 },
 "nbformat": 4,
 "nbformat_minor": 2,
 "cells": [
  {
   "cell_type": "code",
   "execution_count": 106,
   "metadata": {},
   "outputs": [
    {
     "output_type": "stream",
     "name": "stdout",
     "text": [
      "arr:2행4열 visit:2행4열 x:0 y:0 nextX:1 nextY:0\narr:2행4열 visit:2행4열 x:0 y:0 nextX:0 nextY:1\narr:2행4열 visit:2행4열 x:1 y:0 nextX:2 nextY:0\narr:2행4열 visit:2행4열 x:1 y:0 nextX:1 nextY:1\narr:2행4열 visit:2행4열 x:1 y:0 nextX:0 nextY:0\narr:2행4열 visit:2행4열 x:1 y:1 nextX:2 nextY:1\narr:2행4열 visit:2행4열 x:1 y:1 nextX:0 nextY:1\narr:2행4열 visit:2행4열 x:1 y:1 nextX:1 nextY:0\narr:2행4열 visit:2행4열 x:1 y:2 nextX:1 nextY:1\n"
     ]
    },
    {
     "output_type": "error",
     "ename": "IndexError",
     "evalue": "list index out of range",
     "traceback": [
      "\u001b[0;31m---------------------------------------------------------------------------\u001b[0m",
      "\u001b[0;31mIndexError\u001b[0m                                Traceback (most recent call last)",
      "\u001b[0;32m<ipython-input-106-6792f05c8abf>\u001b[0m in \u001b[0;36m<module>\u001b[0;34m\u001b[0m\n\u001b[1;32m     28\u001b[0m \u001b[0;32mwhile\u001b[0m\u001b[0;34m(\u001b[0m\u001b[0mlen\u001b[0m\u001b[0;34m(\u001b[0m\u001b[0mqueue\u001b[0m\u001b[0;34m)\u001b[0m \u001b[0;34m>\u001b[0m \u001b[0;36m0\u001b[0m\u001b[0;34m)\u001b[0m\u001b[0;34m:\u001b[0m\u001b[0;34m\u001b[0m\u001b[0;34m\u001b[0m\u001b[0m\n\u001b[1;32m     29\u001b[0m     \u001b[0mxy\u001b[0m \u001b[0;34m=\u001b[0m \u001b[0mqueue\u001b[0m\u001b[0;34m.\u001b[0m\u001b[0mpop\u001b[0m\u001b[0;34m(\u001b[0m\u001b[0;34m)\u001b[0m\u001b[0;34m\u001b[0m\u001b[0;34m\u001b[0m\u001b[0m\n\u001b[0;32m---> 30\u001b[0;31m     \u001b[0mtravel\u001b[0m\u001b[0;34m(\u001b[0m\u001b[0mxy\u001b[0m\u001b[0;34m[\u001b[0m\u001b[0;36m1\u001b[0m\u001b[0;34m]\u001b[0m\u001b[0;34m,\u001b[0m \u001b[0mxy\u001b[0m\u001b[0;34m[\u001b[0m\u001b[0;36m0\u001b[0m\u001b[0;34m]\u001b[0m\u001b[0;34m)\u001b[0m\u001b[0;34m\u001b[0m\u001b[0;34m\u001b[0m\u001b[0m\n\u001b[0m\u001b[1;32m     31\u001b[0m \u001b[0;34m\u001b[0m\u001b[0m\n\u001b[1;32m     32\u001b[0m \u001b[0mprint\u001b[0m\u001b[0;34m(\u001b[0m\u001b[0mvisit\u001b[0m\u001b[0;34m[\u001b[0m\u001b[0mN\u001b[0m\u001b[0;34m-\u001b[0m\u001b[0;36m1\u001b[0m\u001b[0;34m]\u001b[0m\u001b[0;34m[\u001b[0m\u001b[0mM\u001b[0m\u001b[0;34m-\u001b[0m\u001b[0;36m1\u001b[0m\u001b[0;34m]\u001b[0m\u001b[0;34m)\u001b[0m\u001b[0;34m\u001b[0m\u001b[0;34m\u001b[0m\u001b[0m\n",
      "\u001b[0;32m<ipython-input-106-6792f05c8abf>\u001b[0m in \u001b[0;36mtravel\u001b[0;34m(y, x)\u001b[0m\n\u001b[1;32m     15\u001b[0m                 \u001b[0mqueue\u001b[0m\u001b[0;34m.\u001b[0m\u001b[0mappend\u001b[0m\u001b[0;34m(\u001b[0m\u001b[0;34m[\u001b[0m\u001b[0mnextY\u001b[0m\u001b[0;34m,\u001b[0m\u001b[0mnextX\u001b[0m\u001b[0;34m]\u001b[0m\u001b[0;34m)\u001b[0m\u001b[0;34m\u001b[0m\u001b[0;34m\u001b[0m\u001b[0m\n\u001b[1;32m     16\u001b[0m         \u001b[0;32melif\u001b[0m \u001b[0marr\u001b[0m\u001b[0;34m[\u001b[0m\u001b[0mnextY\u001b[0m\u001b[0;34m]\u001b[0m\u001b[0;34m[\u001b[0m\u001b[0mnextX\u001b[0m\u001b[0;34m]\u001b[0m \u001b[0;34m==\u001b[0m \u001b[0;34m'0'\u001b[0m\u001b[0;34m:\u001b[0m\u001b[0;34m\u001b[0m\u001b[0;34m\u001b[0m\u001b[0m\n\u001b[0;32m---> 17\u001b[0;31m             \u001b[0;32mif\u001b[0m \u001b[0;34m(\u001b[0m\u001b[0mvisit\u001b[0m\u001b[0;34m[\u001b[0m\u001b[0mnextY\u001b[0m\u001b[0;34m]\u001b[0m\u001b[0;34m[\u001b[0m\u001b[0mnextX\u001b[0m\u001b[0;34m]\u001b[0m\u001b[0;34m)\u001b[0m \u001b[0;34m>\u001b[0m \u001b[0;34m(\u001b[0m\u001b[0mvisit\u001b[0m\u001b[0;34m[\u001b[0m\u001b[0my\u001b[0m\u001b[0;34m]\u001b[0m\u001b[0;34m[\u001b[0m\u001b[0mx\u001b[0m\u001b[0;34m]\u001b[0m\u001b[0;34m)\u001b[0m\u001b[0;34m:\u001b[0m\u001b[0;34m\u001b[0m\u001b[0;34m\u001b[0m\u001b[0m\n\u001b[0m\u001b[1;32m     18\u001b[0m                 \u001b[0mvisit\u001b[0m\u001b[0;34m[\u001b[0m\u001b[0mnextY\u001b[0m\u001b[0;34m]\u001b[0m\u001b[0;34m[\u001b[0m\u001b[0mnextX\u001b[0m\u001b[0;34m]\u001b[0m \u001b[0;34m=\u001b[0m \u001b[0mvisit\u001b[0m\u001b[0;34m[\u001b[0m\u001b[0my\u001b[0m\u001b[0;34m]\u001b[0m\u001b[0;34m[\u001b[0m\u001b[0mx\u001b[0m\u001b[0;34m]\u001b[0m\u001b[0;34m\u001b[0m\u001b[0;34m\u001b[0m\u001b[0m\n\u001b[1;32m     19\u001b[0m                 \u001b[0mqueue\u001b[0m\u001b[0;34m.\u001b[0m\u001b[0mappend\u001b[0m\u001b[0;34m(\u001b[0m\u001b[0;34m[\u001b[0m\u001b[0mnextY\u001b[0m\u001b[0;34m,\u001b[0m\u001b[0mnextX\u001b[0m\u001b[0;34m]\u001b[0m\u001b[0;34m)\u001b[0m\u001b[0;34m\u001b[0m\u001b[0;34m\u001b[0m\u001b[0m\n",
      "\u001b[0;31mIndexError\u001b[0m: list index out of range"
     ]
    }
   ],
   "source": [
    "from collections import deque\n",
    "\n",
    "dx = [1, 0, -1, 0]\n",
    "dy = [0, 1, 0, -1]\n",
    "def travel(y, x):\n",
    "    for i in range(4):\n",
    "        nextX = x + dx[i]\n",
    "        nextY = y + dy[i]\n",
    "        if nextX < 0 or nextX >= M or nextY < 0 or nextY >= N:\n",
    "            continue\n",
    "        print(\"arr:%d행%d열 visit:%d행%d열 x:%d y:%d nextX:%d nextY:%d\"%(len(arr),len(arr[0]),len(visit),len(visit[0]),x,y,nextX,nextY))\n",
    "        if arr[nextY][nextX] == '1':\n",
    "            if (visit[nextY][nextX]) > (visit[y][x]+1):\n",
    "                visit[nextY][nextX] = visit[y][x]+1\n",
    "                queue.append([nextY,nextX])\n",
    "        elif arr[nextY][nextX] == '0':\n",
    "            if (visit[nextY][nextX]):\n",
    "                visit[nextY][nextX] = visit[y][x]\n",
    "                queue.append([nextY,nextX])\n",
    "\n",
    "M, N = list(map(int, input().split()))\n",
    "arr = list(map(str, input().split()))\n",
    "\n",
    "visit = [[1e9 for i in range(M)] for j in range (N)]\n",
    "visit[0][0] = 0\n",
    "queue = deque([[0,0]])\n",
    "\n",
    "while(len(queue) > 0):\n",
    "    xy = queue.pop()\n",
    "    travel(xy[1], xy[0])\n",
    "\n",
    "print(visit[N-1][M-1])\n",
    "\n",
    "# print(arr[0][0],arr[0][1],arr[0][2],arr[0][3])\n",
    "# print(arr[1][0],arr[1][1],arr[1][2],arr[1][3])\n",
    "# for i in range(N):\n",
    "#     for j in range(M):\n",
    "#         print('arr :',arr[i][j], end=\"\") #' visit :', visit[i][j])\n",
    "#     print()"
   ]
  }
 ]
}