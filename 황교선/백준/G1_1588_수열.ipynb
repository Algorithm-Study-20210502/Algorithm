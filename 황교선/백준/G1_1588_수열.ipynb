{
 "metadata": {
  "language_info": {
   "codemirror_mode": {
    "name": "ipython",
    "version": 3
   },
   "file_extension": ".py",
   "mimetype": "text/x-python",
   "name": "python",
   "nbconvert_exporter": "python",
   "pygments_lexer": "ipython3",
   "version": "3.8.2"
  },
  "orig_nbformat": 2,
  "kernelspec": {
   "name": "python37364bit2d84b488578f439380c2586f8be3149f",
   "display_name": "Python 3.8.2 64-bit"
  },
  "metadata": {
   "interpreter": {
    "hash": "31f2aee4e71d21fbe5cf8b01ff0e069b9275f58929596ceb00d14d90e3e16cd6"
   }
  }
 },
 "nbformat": 4,
 "nbformat_minor": 2,
 "cells": [
  {
   "cell_type": "code",
   "execution_count": 4,
   "metadata": {},
   "outputs": [
    {
     "output_type": "stream",
     "name": "stdout",
     "text": [
      "[[2, 1245], [0, 415], [0, 138], [0, 46], [0, 15], [0, 5], [0, 1], [0, 0], [0, 0], [0, 0]]\n495 500 249\n"
     ]
    }
   ],
   "source": [
    "def GetEachRangeOfSeries(left, right, N):\n",
    "  tempArray = [(int(left/3))%3,(int(right/3))+(int(left/3))%3]\n",
    "  rangeOfSeries.append(tempArray)\n",
    "  \n",
    "  if N > 1:\n",
    "    GetEachRangeOfSeries(left/3, right/3, N-1)\n",
    "  else:\n",
    "    return\n",
    "\n",
    "def IncreaseSeriesInRange(left, right, series):\n",
    "  tempSeries = []\n",
    "  for index in range(len(series)):\n",
    "    if series[index] == '1':\n",
    "      tempSeries += \"132\"\n",
    "    elif series[index] == '2':\n",
    "      tempSeries += \"211\"\n",
    "    else:\n",
    "      tempSeries += \"232\"\n",
    "  return tempSeries[left:right+1]\n",
    "\n",
    "def countElement(series):\n",
    "  one = 0\n",
    "  two = 0\n",
    "  three = 0\n",
    "  for element in series:\n",
    "    if element == '1':\n",
    "      one += 1\n",
    "    elif element == '2':\n",
    "      two += 1\n",
    "    else:\n",
    "      three += 1\n",
    "  return one, two, three\n",
    "\n",
    "firstNum = input()\n",
    "left = int(input())\n",
    "right = int(input())\n",
    "N = int(input())\n",
    "\n",
    "series = \"\" + firstNum\n",
    "rangeOfSeries = [[left%3,right-left+left%3]]\n",
    "GetEachRangeOfSeries(left,right,N-1)\n",
    "print(rangeOfSeries)\n",
    "rangeOfSeries.reverse()\n",
    "\n",
    "for second in range(N):\n",
    "  series = IncreaseSeriesInRange(rangeOfSeries[second][0], rangeOfSeries[second][1], series)\n",
    "\n",
    "one, two, three = countElement(series)\n",
    "\n",
    "print(one,two,three)"
   ]
  }
 ]
}