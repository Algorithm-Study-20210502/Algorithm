{
 "metadata": {
  "language_info": {
   "codemirror_mode": {
    "name": "ipython",
    "version": 3
   },
   "file_extension": ".py",
   "mimetype": "text/x-python",
   "name": "python",
   "nbconvert_exporter": "python",
   "pygments_lexer": "ipython3",
   "version": "3.8.2"
  },
  "orig_nbformat": 2,
  "kernelspec": {
   "name": "python37364bit2d84b488578f439380c2586f8be3149f",
   "display_name": "Python 3.8.2 64-bit"
  },
  "metadata": {
   "interpreter": {
    "hash": "31f2aee4e71d21fbe5cf8b01ff0e069b9275f58929596ceb00d14d90e3e16cd6"
   }
  }
 },
 "nbformat": 4,
 "nbformat_minor": 2,
 "cells": [
  {
   "cell_type": "code",
   "execution_count": 55,
   "metadata": {},
   "outputs": [
    {
     "output_type": "stream",
     "name": "stdout",
     "text": [
      "21\n"
     ]
    }
   ],
   "source": [
    "#11:58 ~ 13:47(메모리초과) ~ 13:59(시간초과)\n",
    "#저도 이렇게 생각했음 https://www.acmicpc.net/board/view/45841 \n",
    "import math\n",
    "\n",
    "N = int(input())\n",
    "scaleWeight = list(map(int, input().split()))\n",
    "scaleWeight.sort()\n",
    "\n",
    "possibleNums = 0\n",
    "\n",
    "#최대 N! 경우의 수만큼 할 수 있음\n",
    "for i in range(1,math.factorial(N)+1):\n",
    "    if i in scaleWeight:\n",
    "        continue\n",
    "    \n",
    "    # ~ 13:20 최소 20분\n",
    "    #i 보다 작은 저울추의 개수를 구함\n",
    "    #이의 부분집합의 개수는 2^저울추 개수\n",
    "    cnt = 0\n",
    "    for j in range(N):\n",
    "        if i > scaleWeight[j]:\n",
    "            cnt += 1\n",
    "        else:\n",
    "            break\n",
    "    for a in range(1 << cnt, 0, -1): #부분집합의 개수\n",
    "        curSum = 0\n",
    "        curElements = []\n",
    "        for b in range(cnt+1): #부분집합 구하기\n",
    "            if a & (1<<b):\n",
    "                curSum += scaleWeight[b]\n",
    "                curElements.append(scaleWeight[b])\n",
    "                if curSum > i:\n",
    "                    break\n",
    "                if curSum == i:\n",
    "                    possibleNums += 1\n",
    "                    break\n",
    "        if possibleNums == i:\n",
    "            break\n",
    "\n",
    "    if possibleNums != i:\n",
    "        break\n",
    "\n",
    "print(i)"
   ]
  },
  {
   "cell_type": "code",
   "execution_count": 45,
   "metadata": {},
   "outputs": [
    {
     "output_type": "stream",
     "name": "stdout",
     "text": [
      "                a               \n8 3 8 8 \n                a               \n7 0 1 1 7 1 2 2 7 2 4 4 \n                a               \n6 1 2 2 6 2 4 4 \n                a               \n5 0 1 1 5 2 4 4 \n                a               \n4 2 4 4 \n                a               \n3 0 1 1 3 1 2 2 \n                a               \n2 1 2 2 \n                a               \n1 0 1 1 \n"
     ]
    }
   ],
   "source": [
    "arr = [1,2,3]\n",
    "n = len(arr)\n",
    "\n",
    "for a in range(1 << n, 0, -1): #부분집합의 개수\n",
    "    print(\"                a               \")\n",
    "    for b in range(n+1): #\n",
    "        if a & (1<<b):\n",
    "            print(a,b,1<<b,a&(1<<b), end=\" \")\n",
    "            # print(arr[b], end=\" \")\n",
    "    print()"
   ]
  },
  {
   "cell_type": "code",
   "execution_count": 4,
   "metadata": {},
   "outputs": [
    {
     "output_type": "stream",
     "name": "stdout",
     "text": [
      "\n0 \n1 \n0 1 \n2 \n0 2 \n1 2 \n0 1 2 \n3 \n0 3 \n1 3 \n0 1 3 \n2 3 \n0 2 3 \n1 2 3 \n0 1 2 3 \n4 \n0 4 \n1 4 \n0 1 4 \n2 4 \n0 2 4 \n1 2 4 \n0 1 2 4 \n3 4 \n0 3 4 \n1 3 4 \n0 1 3 4 \n2 3 4 \n0 2 3 4 \n1 2 3 4 \n0 1 2 3 4 \n"
     ]
    }
   ],
   "source": [
    "n = 5\n",
    "for a in range(1 << n):\n",
    "    for b in range(n + 1):\n",
    "        if a & (1<<b):\n",
    "            print(b, end=\" \")\n",
    "    print()"
   ]
  },
  {
   "cell_type": "code",
   "execution_count": 56,
   "metadata": {},
   "outputs": [
    {
     "output_type": "stream",
     "name": "stdout",
     "text": [
      "21\n"
     ]
    }
   ],
   "source": [
    "N = int(input())\n",
    "scaleWeight = list(map(int, input().split()))\n",
    "scaleWeight.sort()\n",
    "\n",
    "curSum = 1\n",
    "for i in range(N):\n",
    "    if curSum < scaleWeight[i]:\n",
    "        break\n",
    "    curSum += scaleWeight[i]\n",
    "\n",
    "print(curSum)"
   ]
  }
 ]
}