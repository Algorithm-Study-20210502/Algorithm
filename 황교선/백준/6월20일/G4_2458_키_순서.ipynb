{
 "metadata": {
  "language_info": {
   "codemirror_mode": {
    "name": "ipython",
    "version": 3
   },
   "file_extension": ".py",
   "mimetype": "text/x-python",
   "name": "python",
   "nbconvert_exporter": "python",
   "pygments_lexer": "ipython3",
   "version": "3.9.5"
  },
  "orig_nbformat": 4,
  "kernelspec": {
   "name": "python3",
   "display_name": "Python 3.9.5 64-bit"
  },
  "interpreter": {
   "hash": "fa746b4ac4ec67d3747e4aafad1bd29d51d0bff92e637cc12b69170d2d4a8823"
  }
 },
 "nbformat": 4,
 "nbformat_minor": 2,
 "cells": [
  {
   "cell_type": "code",
   "execution_count": 53,
   "metadata": {},
   "outputs": [],
   "source": [
    "INFINITY = 10e5\n",
    "N, M = map(int, input().split())\n",
    "graph = [[INFINITY for _ in range(N)] for _ in range(N)]\n",
    "for i in range(N):\n",
    "    graph[i][i] = 0\n",
    "\n",
    "for _ in range(M):\n",
    "    a, b = map(int, input().split())\n",
    "    graph[a-1][b-1] = 1 #b가 더 큼\n",
    "    graph[b-1][a-1] = -1 #b가 더 큼"
   ]
  },
  {
   "cell_type": "code",
   "execution_count": 55,
   "metadata": {},
   "outputs": [],
   "source": [
    "for k in range(N):\n",
    "    for i in range(N):\n",
    "        for j in range(N):\n",
    "            if -1 <= graph[i][j] <= 1:\n",
    "                continue\n",
    "            temp = graph[i][k] + graph[k][j]\n",
    "            if temp == -2:\n",
    "                graph[i][j] = -1\n",
    "                graph[j][i] = 1\n",
    "            elif temp == 2:\n",
    "                graph[i][j] = 1\n",
    "                graph[j][i] = -1"
   ]
  },
  {
   "cell_type": "code",
   "execution_count": 56,
   "metadata": {},
   "outputs": [
    {
     "output_type": "stream",
     "name": "stdout",
     "text": [
      "X < _ < < < \n> X > > > _ \n_ < X < _ < \n> < > X > < \n> < _ < X < \n> _ > > > X \n"
     ]
    }
   ],
   "source": [
    "for i in range(N):\n",
    "    for j in range(N):\n",
    "        if graph[i][j] == INFINITY:\n",
    "            print(\"_ \", end=\"\")\n",
    "        elif graph[i][j] == -1:\n",
    "            print(\"> \", end=\"\")\n",
    "        elif graph[i][j] == 1:\n",
    "            print(\"< \", end=\"\")\n",
    "        else:\n",
    "            print(\"X \", end=\"\")\n",
    "    print()"
   ]
  },
  {
   "cell_type": "code",
   "execution_count": 61,
   "metadata": {},
   "outputs": [
    {
     "output_type": "stream",
     "name": "stdout",
     "text": [
      "1\n"
     ]
    }
   ],
   "source": [
    "cnt = 0\n",
    "for i in range(N):\n",
    "    isINF = False\n",
    "    for j in range(N):\n",
    "        if graph[i][j] == INFINITY:\n",
    "            isINF = True\n",
    "            break\n",
    "    if not isINF:\n",
    "        cnt += 1\n",
    "print(cnt)"
   ]
  },
  {
   "cell_type": "code",
   "execution_count": null,
   "metadata": {},
   "outputs": [],
   "source": [
    "#전체 코드 \n",
    "INFINITY = 10e5\n",
    "N, M = map(int, input().split())\n",
    "graph = [[INFINITY for _ in range(N)] for _ in range(N)]\n",
    "for i in range(N):\n",
    "    graph[i][i] = 0\n",
    "\n",
    "for _ in range(M):\n",
    "    a, b = map(int, input().split())\n",
    "    graph[a-1][b-1] = 1 #b가 더 큼\n",
    "    graph[b-1][a-1] = -1 #b가 더 큼\n",
    "\n",
    "for k in range(N):\n",
    "    for i in range(N):\n",
    "        for j in range(N):\n",
    "            if -1 <= graph[i][j] <= 1:\n",
    "                continue\n",
    "            temp = graph[i][k] + graph[k][j]\n",
    "            if temp == -2:\n",
    "                graph[i][j] = -1\n",
    "                graph[j][i] = 1\n",
    "            elif temp == 2:\n",
    "                graph[i][j] = 1\n",
    "                graph[j][i] = -1\n",
    "                \n",
    "cnt = 0\n",
    "for i in range(N):\n",
    "    isINF = False\n",
    "    for j in range(N):\n",
    "        if graph[i][j] == INFINITY:\n",
    "            isINF = True\n",
    "            break\n",
    "    if not isINF:\n",
    "        cnt += 1\n",
    "print(cnt)"
   ]
  }
 ]
}