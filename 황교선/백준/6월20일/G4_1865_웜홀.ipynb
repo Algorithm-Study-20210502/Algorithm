{
 "metadata": {
  "language_info": {
   "codemirror_mode": {
    "name": "ipython",
    "version": 3
   },
   "file_extension": ".py",
   "mimetype": "text/x-python",
   "name": "python",
   "nbconvert_exporter": "python",
   "pygments_lexer": "ipython3",
   "version": "3.9.5"
  },
  "orig_nbformat": 4,
  "kernelspec": {
   "name": "python3",
   "display_name": "Python 3.9.5 64-bit"
  },
  "interpreter": {
   "hash": "fa746b4ac4ec67d3747e4aafad1bd29d51d0bff92e637cc12b69170d2d4a8823"
  }
 },
 "nbformat": 4,
 "nbformat_minor": 2,
 "cells": [
  {
   "cell_type": "code",
   "execution_count": 23,
   "metadata": {},
   "outputs": [
    {
     "output_type": "stream",
     "name": "stdout",
     "text": [
      "[(3, 3, 1, [[1, 2, 2], [1, 3, 4], [2, 3, 1]], [[3, 1, 3]]), (3, 2, 1, [[1, 2, 3], [2, 3, 4]], [[3, 1, 8]])]\n"
     ]
    }
   ],
   "source": [
    "#12:49 ~ 13:13\n",
    "#15:00 ~ \n",
    "TC = int(input())\n",
    "TCs = []\n",
    "for j in range(TC):\n",
    "    N, M, W = map(int, input().split())\n",
    "    M_list = []\n",
    "    W_list = []\n",
    "    for i in range(M):\n",
    "        M_list.append(list(map(int, input().split())))\n",
    "    for i in range(W):\n",
    "        W_list.append(list(map(int, input().split())))\n",
    "    tupl = (N,M,W,M_list, W_list)\n",
    "    TCs.append(tupl)"
   ]
  },
  {
   "cell_type": "code",
   "execution_count": 54,
   "metadata": {},
   "outputs": [
    {
     "output_type": "stream",
     "name": "stdout",
     "text": [
      "NO\nYES\n"
     ]
    }
   ],
   "source": [
    "INFINITE = 10e15\n",
    "distance = [INFINITE for i in range(N+1)]\n",
    "distance[1] = 0\n",
    "for i in range(TC):\n",
    "    cycle = False\n",
    "    cur_n = TCs[i][0]\n",
    "    cur_m = TCs[i][1]\n",
    "    cur_w = TCs[i][2]\n",
    "    cur_m_list = TCs[i][3]\n",
    "    cur_w_list = TCs[i][4]\n",
    "    # print(cur_n,cur_m,cur_w,cur_m_list,cur_m_list)\n",
    "    for k in range(cur_n):\n",
    "        for j in range(cur_m):\n",
    "            start_node = cur_m_list[j][0]\n",
    "            end_node = cur_m_list[j][1]\n",
    "            node_cost = cur_m_list[j][2]\n",
    "            if(distance[start_node] != INFIN and distance[end_node] > distance[start_node] + node_cost):\n",
    "                distance[end_node] = distance[start_node] + node_cost\n",
    "\n",
    "        for j in range(cur_w):\n",
    "            start_node = cur_w_list[j][0]\n",
    "            end_node = cur_w_list[j][1]\n",
    "            node_cost = -cur_w_list[j][2]\n",
    "            if(distance[start_node] != INFIN and distance[end_node] > distance[start_node] + node_cost):\n",
    "                distance[end_node] = distance[start_node] + node_cost\n",
    "                if k == cur_n-1:\n",
    "                    cycle = True\n",
    "    if cycle:\n",
    "        print(\"YES\")\n",
    "    else:\n",
    "        print(\"NO\")"
   ]
  },
  {
   "cell_type": "code",
   "execution_count": 41,
   "metadata": {},
   "outputs": [
    {
     "output_type": "stream",
     "name": "stdout",
     "text": [
      "same\n"
     ]
    }
   ],
   "source": [
    "INF = 10e16\n",
    "\n",
    "a = INF+5\n",
    "b = INF\n",
    "\n",
    "if(a == b):\n",
    "    print(\"same\")"
   ]
  },
  {
   "cell_type": "code",
   "execution_count": 1,
   "metadata": {},
   "outputs": [
    {
     "output_type": "error",
     "ename": "NameError",
     "evalue": "name 'TCs' is not defined",
     "traceback": [
      "\u001b[1;31m---------------------------------------------------------------------------\u001b[0m",
      "\u001b[1;31mNameError\u001b[0m                                 Traceback (most recent call last)",
      "\u001b[1;32m<ipython-input-1-1645c3b6a4c6>\u001b[0m in \u001b[0;36m<module>\u001b[1;34m\u001b[0m\n\u001b[1;32m----> 1\u001b[1;33m \u001b[0mprint\u001b[0m\u001b[1;33m(\u001b[0m\u001b[0mTCs\u001b[0m\u001b[1;33m)\u001b[0m\u001b[1;33m\u001b[0m\u001b[1;33m\u001b[0m\u001b[0m\n\u001b[0m",
      "\u001b[1;31mNameError\u001b[0m: name 'TCs' is not defined"
     ]
    }
   ],
   "source": [
    "print(TCs)"
   ]
  },
  {
   "cell_type": "code",
   "execution_count": 41,
   "metadata": {},
   "outputs": [
    {
     "output_type": "stream",
     "name": "stdout",
     "text": [
      "YES\n[1e+16, -6, -2, 2]\n"
     ]
    }
   ],
   "source": [
    "#12:49 ~ 13:13\n",
    "#15:00 ~ 15:26\n",
    "\n",
    "INFIN = 10e8\n",
    "for _ in range(int(input())):\n",
    "    N, M, W = map(int, input().split())\n",
    "    M_list = []\n",
    "    W_list = []\n",
    "    for __ in range(M):\n",
    "        s,e,cost = map(int, input().split())\n",
    "        M_list.append((s,e,cost))\n",
    "        M_list.append((e,s,cost))\n",
    "    for __ in range(W):\n",
    "        s,e,cost = map(int, input().split())\n",
    "        W_list.append((s,e,-cost))\n",
    "\n",
    "    is_cycle_exist = False\n",
    "    distance = [INFIN for i in range(N+1)]\n",
    "    distance[N-1] = 0\n",
    "    for k in range(N):\n",
    "        for s,e,cost in M_list:\n",
    "            if distance[s] != INFIN and distance[e] > distance[s] + cost:\n",
    "                distance[e] = distance[s] + cost\n",
    "\n",
    "        for s,e,cost in W_list:\n",
    "            if distance[e] > distance[s] + cost:\n",
    "                distance[e] = distance[s] + cost\n",
    "                if k == N-1:\n",
    "                    is_cycle_exist = True\n",
    "\n",
    "    if is_cycle_exist:\n",
    "        print(\"YES\")\n",
    "    else:\n",
    "        print(\"NO\")\n",
    "# print(distance)"
   ]
  },
  {
   "cell_type": "code",
   "execution_count": 36,
   "metadata": {},
   "outputs": [
    {
     "output_type": "stream",
     "name": "stdout",
     "text": [
      "[2200, 2200, 2200, 2200, 2200]\n"
     ]
    }
   ],
   "source": [
    "weights = [2200] * 5\n",
    "print(weights)"
   ]
  }
 ]
}